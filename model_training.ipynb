{
  "cells": [
    {
      "cell_type": "code",
      "execution_count": 7,
      "metadata": {
        "id": "HarTmtJPatHE"
      },
      "outputs": [],
      "source": [
        "!pip install -q transformers datasets seqeval scikit-learn"
      ]
    },
    {
      "cell_type": "code",
      "source": [
        "!pip install -q transformers==4.31.0"
      ],
      "metadata": {
        "id": "93x1hD6WTQP4"
      },
      "execution_count": 21,
      "outputs": []
    },
    {
      "cell_type": "code",
      "source": [
        "import json\n",
        "import torch\n",
        "import numpy as np\n",
        "from collections import Counter\n",
        "import matplotlib.pyplot as plt\n",
        "from sklearn.model_selection import train_test_split\n",
        "\n",
        "from datasets import Dataset, DatasetDict\n",
        "from transformers import (\n",
        "    BertTokenizerFast, BertForTokenClassification,\n",
        "    TrainingArguments, Trainer, DataCollatorForTokenClassification,\n",
        "    EarlyStoppingCallback\n",
        ")\n",
        "from seqeval.metrics import classification_report, f1_score, precision_score, recall_score, accuracy_score"
      ],
      "metadata": {
        "id": "0nSGx1IDbwrc"
      },
      "execution_count": 6,
      "outputs": []
    },
    {
      "cell_type": "code",
      "source": [
        "BIO_FILE = \"bio_tagged_all_jobs.json\"\n",
        "\n",
        "with open(BIO_FILE, \"r\", encoding=\"utf-8\") as f:\n",
        "    raw_data = json.load(f)\n",
        "\n",
        "print(f\"Loaded {len(raw_data)} jobs\")"
      ],
      "metadata": {
        "id": "XrqDhawLeKfk",
        "colab": {
          "base_uri": "https://localhost:8080/"
        },
        "outputId": "022f10a6-4176-417d-e6ba-30fe479facdd"
      },
      "execution_count": 9,
      "outputs": [
        {
          "output_type": "stream",
          "name": "stdout",
          "text": [
            "Loaded 6697 jobs\n"
          ]
        }
      ]
    },
    {
      "cell_type": "code",
      "source": [
        "all_data = []\n",
        "skipped = 0\n",
        "\n",
        "for job in raw_data:\n",
        "    for sent in job.get(\"tagged_sentences\", []):\n",
        "        tokens = sent.get(\"tokens\")\n",
        "        labels = sent.get(\"labels\")\n",
        "\n",
        "        if isinstance(tokens, str): tokens = tokens.strip().split()\n",
        "        if isinstance(labels, str): labels = labels.strip().split()\n",
        "\n",
        "        if isinstance(tokens, list) and isinstance(labels, list) and len(tokens) == len(labels):\n",
        "            all_data.append({\"tokens\": tokens, \"labels\": labels})\n",
        "        else:\n",
        "            skipped += 1\n",
        "\n",
        "print(f\"Skipped {skipped} samples\")"
      ],
      "metadata": {
        "colab": {
          "base_uri": "https://localhost:8080/"
        },
        "id": "ucq4sA0Bbye_",
        "outputId": "5880173b-9ac3-4aac-912a-c5b8fda59099"
      },
      "execution_count": 10,
      "outputs": [
        {
          "output_type": "stream",
          "name": "stdout",
          "text": [
            "Skipped 0 samples\n"
          ]
        }
      ]
    },
    {
      "cell_type": "code",
      "source": [
        "unique_labels = sorted({label for sample in all_data for label in sample[\"labels\"]})\n",
        "label2id = {label: i for i, label in enumerate(unique_labels)}\n",
        "id2label = {i: label for label, i in label2id.items()}\n",
        "print(f\"Total labels: {len(label2id)}\", label2id)\n",
        "\n",
        "for sample in all_data:\n",
        "    sample[\"label_ids\"] = [label2id[label] for label in sample[\"labels\"]]"
      ],
      "metadata": {
        "colab": {
          "base_uri": "https://localhost:8080/"
        },
        "id": "kY_UNF7ab5Oh",
        "outputId": "202cc77f-00b9-4a8e-eca6-d60d6e901671"
      },
      "execution_count": 11,
      "outputs": [
        {
          "output_type": "stream",
          "name": "stdout",
          "text": [
            "Total labels: 13 {'B-CERT': 0, 'B-FIELD': 1, 'B-LANG': 2, 'B-SKILL': 3, 'B-SOFT_SKILL': 4, 'B-TOOL': 5, 'I-CERT': 6, 'I-FIELD': 7, 'I-LANG': 8, 'I-SKILL': 9, 'I-SOFT_SKILL': 10, 'I-TOOL': 11, 'O': 12}\n"
          ]
        }
      ]
    },
    {
      "cell_type": "code",
      "source": [
        "train_data, val_data = train_test_split(all_data, test_size=0.1, random_state=42)\n",
        "\n",
        "dataset = DatasetDict({\n",
        "    \"train\": Dataset.from_list(train_data),\n",
        "    \"validation\": Dataset.from_list(val_data)\n",
        "})\n",
        "\n",
        "print(f\"Training samples: {len(train_data)} | Validation samples: {len(val_data)}\")"
      ],
      "metadata": {
        "colab": {
          "base_uri": "https://localhost:8080/"
        },
        "id": "uQX3Z7BQb-ir",
        "outputId": "19227b9a-7648-4e54-e8c7-81b71a8efb3a"
      },
      "execution_count": 12,
      "outputs": [
        {
          "output_type": "stream",
          "name": "stdout",
          "text": [
            "Training samples: 171211 | Validation samples: 19024\n"
          ]
        }
      ]
    },
    {
      "cell_type": "code",
      "source": [
        "tokenizer = BertTokenizerFast.from_pretrained(\"bert-base-cased\")\n",
        "\n",
        "def tokenize_and_align_labels(example):\n",
        "    tokenized = tokenizer(\n",
        "        example[\"tokens\"],\n",
        "        is_split_into_words=True,\n",
        "        truncation=True,\n",
        "        padding=\"max_length\",\n",
        "        max_length=128,\n",
        "        return_offsets_mapping=True\n",
        "    )\n",
        "\n",
        "    labels = example[\"label_ids\"]\n",
        "    word_ids = tokenized.word_ids()\n",
        "\n",
        "    aligned_labels = []\n",
        "    for word_idx in word_ids:\n",
        "        if word_idx is None:\n",
        "            aligned_labels.append(-100)\n",
        "        else:\n",
        "            aligned_labels.append(labels[word_idx])\n",
        "\n",
        "    tokenized[\"labels\"] = aligned_labels\n",
        "    del tokenized[\"offset_mapping\"]\n",
        "    return tokenized"
      ],
      "metadata": {
        "id": "ZSqsve6UcA5Q"
      },
      "execution_count": null,
      "outputs": []
    },
    {
      "cell_type": "code",
      "source": [
        "encoded_dataset = dataset.map(tokenize_and_align_labels, remove_columns=[\"tokens\", \"labels\", \"label_ids\"])"
      ],
      "metadata": {
        "colab": {
          "base_uri": "https://localhost:8080/",
          "height": 81,
          "referenced_widgets": [
            "84be7e6ab08a489dbc2fc9889d52ff5b",
            "b08750d3205148838ff4e97649e231ce",
            "46e99d00d1d3459588c7bd5c26eafb70",
            "085e4426888841e89048711020ef48f6",
            "74b6f5ec75264378ba9efa26c58c0eee",
            "8f102d4e46d74f949bc1d0e9da6249c6",
            "ba29fa0e792342aea5cdaf796f9dfc7e",
            "7d6fb24694b3492ba369805b6eedf113",
            "1dc20d4a31aa497e9b2e93c7abdad899",
            "b590c97dd44940b9b05bdcd461581700",
            "64b48b448f644352b79cc2f8aacfd6ec",
            "342a30eb190441228c2364f7054d0a93",
            "20d203a671da4a16a22657b8e6ca5a44",
            "156a3ae69f994e08ba8303d1baba6ba5",
            "d0458dba3f9b4c6585199f099857d41c",
            "d9ebe6f84698459fb4969790e5f492c9",
            "dcfdf7df33d04502838482a08369c7f9",
            "456b2256434f45f4b5f1bcd6ad177e38",
            "01c1bfa91c024d798e597256e01e6ee8",
            "41435ab6135041768c913cd3a4cc9dfb",
            "1879466b37da4b03989bd1fcc164da3f",
            "f37460a320d5404eaea796ae3b2d8fc8"
          ]
        },
        "id": "8w2Ib-2xcFOm",
        "outputId": "0ea648a3-535f-49d8-a53b-1af0e8c97f1c"
      },
      "execution_count": null,
      "outputs": [
        {
          "output_type": "display_data",
          "data": {
            "text/plain": [
              "Map:   0%|          | 0/171211 [00:00<?, ? examples/s]"
            ],
            "application/vnd.jupyter.widget-view+json": {
              "version_major": 2,
              "version_minor": 0,
              "model_id": "84be7e6ab08a489dbc2fc9889d52ff5b"
            }
          },
          "metadata": {}
        },
        {
          "output_type": "display_data",
          "data": {
            "text/plain": [
              "Map:   0%|          | 0/19024 [00:00<?, ? examples/s]"
            ],
            "application/vnd.jupyter.widget-view+json": {
              "version_major": 2,
              "version_minor": 0,
              "model_id": "342a30eb190441228c2364f7054d0a93"
            }
          },
          "metadata": {}
        }
      ]
    },
    {
      "cell_type": "code",
      "source": [
        "model = BertForTokenClassification.from_pretrained(\n",
        "    \"bert-base-cased\",\n",
        "    num_labels=len(label2id),\n",
        "    id2label=id2label,\n",
        "    label2id=label2id\n",
        ")"
      ],
      "metadata": {
        "colab": {
          "base_uri": "https://localhost:8080/"
        },
        "id": "Iv-zVVCEcIlc",
        "outputId": "6de8aee0-0fdd-4732-febc-b7a0c8d99257"
      },
      "execution_count": null,
      "outputs": [
        {
          "output_type": "stream",
          "name": "stderr",
          "text": [
            "Some weights of BertForTokenClassification were not initialized from the model checkpoint at bert-base-cased and are newly initialized: ['classifier.bias', 'classifier.weight']\n",
            "You should probably TRAIN this model on a down-stream task to be able to use it for predictions and inference.\n"
          ]
        }
      ]
    },
    {
      "cell_type": "code",
      "source": [
        "def compute_metrics(pred):\n",
        "    predictions, labels = pred\n",
        "    predictions = np.argmax(predictions, axis=2)\n",
        "\n",
        "    true_preds, true_labels = [], []\n",
        "\n",
        "    for pred_seq, label_seq in zip(predictions, labels):\n",
        "        temp_preds, temp_labels = [], []\n",
        "        for p, l in zip(pred_seq, label_seq):\n",
        "            if l != -100:\n",
        "                temp_preds.append(id2label[p])\n",
        "                temp_labels.append(id2label[l])\n",
        "        true_preds.append(temp_preds)\n",
        "        true_labels.append(temp_labels)\n",
        "\n",
        "    print(\"\\n📋 Classification Report:\")\n",
        "    print(classification_report(true_labels, true_preds))\n",
        "\n",
        "    return {\n",
        "        \"accuracy\": accuracy_score(true_labels, true_preds),\n",
        "        \"precision\": precision_score(true_labels, true_preds),\n",
        "        \"recall\": recall_score(true_labels, true_preds),\n",
        "        \"f1\": f1_score(true_labels, true_preds)\n",
        "    }"
      ],
      "metadata": {
        "id": "2o5VEqs7cNnt"
      },
      "execution_count": null,
      "outputs": []
    },
    {
      "cell_type": "code",
      "source": [
        "args = TrainingArguments(\n",
        "    output_dir=\"./bert_bio_model_final\",\n",
        "    eval_strategy=\"epoch\",\n",
        "    save_strategy=\"epoch\",\n",
        "    learning_rate=3e-5,\n",
        "    per_device_train_batch_size=16,\n",
        "    per_device_eval_batch_size=16,\n",
        "    num_train_epochs=5,\n",
        "    weight_decay=0.01,\n",
        "    logging_dir=\"./logs\",\n",
        "    load_best_model_at_end=True,\n",
        "    metric_for_best_model=\"f1\",\n",
        "    report_to=\"none\",\n",
        "    fp16=True\n",
        ")\n",
        "\n",
        "collator = DataCollatorForTokenClassification(tokenizer)"
      ],
      "metadata": {
        "id": "9XdSHn3jcRZ3"
      },
      "execution_count": null,
      "outputs": []
    },
    {
      "cell_type": "code",
      "source": [
        "trainer = Trainer(\n",
        "    model=model,\n",
        "    args=args,\n",
        "    train_dataset=encoded_dataset[\"train\"],\n",
        "    eval_dataset=encoded_dataset[\"validation\"],\n",
        "    data_collator=collator,\n",
        "    compute_metrics=compute_metrics,\n",
        "    callbacks=[EarlyStoppingCallback(early_stopping_patience=2)]\n",
        ")\n",
        "\n",
        "trainer.train()"
      ],
      "metadata": {
        "colab": {
          "base_uri": "https://localhost:8080/",
          "height": 1000
        },
        "id": "0_mdJnv5cT49",
        "outputId": "d4d68e0a-12dc-443d-f4e4-768ace365bb1"
      },
      "execution_count": null,
      "outputs": [
        {
          "output_type": "display_data",
          "data": {
            "text/plain": [
              "<IPython.core.display.HTML object>"
            ],
            "text/html": [
              "\n",
              "    <div>\n",
              "      \n",
              "      <progress value='53505' max='53505' style='width:300px; height:20px; vertical-align: middle;'></progress>\n",
              "      [53505/53505 2:05:28, Epoch 5/5]\n",
              "    </div>\n",
              "    <table border=\"1\" class=\"dataframe\">\n",
              "  <thead>\n",
              " <tr style=\"text-align: left;\">\n",
              "      <th>Epoch</th>\n",
              "      <th>Training Loss</th>\n",
              "      <th>Validation Loss</th>\n",
              "      <th>Accuracy</th>\n",
              "      <th>Precision</th>\n",
              "      <th>Recall</th>\n",
              "      <th>F1</th>\n",
              "    </tr>\n",
              "  </thead>\n",
              "  <tbody>\n",
              "    <tr>\n",
              "      <td>1</td>\n",
              "      <td>0.043600</td>\n",
              "      <td>0.043700</td>\n",
              "      <td>0.980537</td>\n",
              "      <td>0.742115</td>\n",
              "      <td>0.928107</td>\n",
              "      <td>0.824755</td>\n",
              "    </tr>\n",
              "    <tr>\n",
              "      <td>2</td>\n",
              "      <td>0.038300</td>\n",
              "      <td>0.040440</td>\n",
              "      <td>0.981246</td>\n",
              "      <td>0.761886</td>\n",
              "      <td>0.900795</td>\n",
              "      <td>0.825538</td>\n",
              "    </tr>\n",
              "    <tr>\n",
              "      <td>3</td>\n",
              "      <td>0.033800</td>\n",
              "      <td>0.040136</td>\n",
              "      <td>0.982186</td>\n",
              "      <td>0.759861</td>\n",
              "      <td>0.935833</td>\n",
              "      <td>0.838716</td>\n",
              "    </tr>\n",
              "    <tr>\n",
              "      <td>4</td>\n",
              "      <td>0.029300</td>\n",
              "      <td>0.040711</td>\n",
              "      <td>0.982992</td>\n",
              "      <td>0.783808</td>\n",
              "      <td>0.902386</td>\n",
              "      <td>0.838928</td>\n",
              "    </tr>\n",
              "    <tr>\n",
              "      <td>5</td>\n",
              "      <td>0.023800</td>\n",
              "      <td>0.045854</td>\n",
              "      <td>0.983155</td>\n",
              "      <td>0.779365</td>\n",
              "      <td>0.922381</td>\n",
              "      <td>0.844863</td>\n",
              "    </tr>\n",
              "  </tbody>\n",
              "</table><p>"
            ]
          },
          "metadata": {}
        },
        {
          "output_type": "stream",
          "name": "stdout",
          "text": [
            "\n",
            "📋 Classification Report:\n",
            "              precision    recall  f1-score   support\n",
            "\n",
            "        CERT       0.49      0.49      0.49       104\n",
            "       FIELD       0.79      0.96      0.87      5623\n",
            "        LANG       0.80      0.93      0.86      4221\n",
            "       SKILL       0.71      0.95      0.81      2590\n",
            "  SOFT_SKILL       0.67      0.98      0.80      3332\n",
            "        TOOL       0.73      0.87      0.79      6135\n",
            "\n",
            "   micro avg       0.74      0.93      0.82     22005\n",
            "   macro avg       0.70      0.86      0.77     22005\n",
            "weighted avg       0.74      0.93      0.83     22005\n",
            "\n",
            "\n",
            "📋 Classification Report:\n",
            "              precision    recall  f1-score   support\n",
            "\n",
            "        CERT       0.52      0.62      0.56       104\n",
            "       FIELD       0.78      0.98      0.87      5623\n",
            "        LANG       0.81      0.95      0.87      4221\n",
            "       SKILL       0.77      0.89      0.82      2590\n",
            "  SOFT_SKILL       0.70      0.93      0.80      3332\n",
            "        TOOL       0.75      0.79      0.77      6135\n",
            "\n",
            "   micro avg       0.76      0.90      0.83     22005\n",
            "   macro avg       0.72      0.86      0.78     22005\n",
            "weighted avg       0.76      0.90      0.82     22005\n",
            "\n",
            "\n",
            "📋 Classification Report:\n",
            "              precision    recall  f1-score   support\n",
            "\n",
            "        CERT       0.47      0.77      0.59       104\n",
            "       FIELD       0.80      0.97      0.88      5623\n",
            "        LANG       0.80      0.97      0.88      4221\n",
            "       SKILL       0.76      0.93      0.84      2590\n",
            "  SOFT_SKILL       0.70      0.93      0.80      3332\n",
            "        TOOL       0.74      0.88      0.80      6135\n",
            "\n",
            "   micro avg       0.76      0.94      0.84     22005\n",
            "   macro avg       0.71      0.91      0.80     22005\n",
            "weighted avg       0.76      0.94      0.84     22005\n",
            "\n",
            "\n",
            "📋 Classification Report:\n",
            "              precision    recall  f1-score   support\n",
            "\n",
            "        CERT       0.51      0.80      0.62       104\n",
            "       FIELD       0.82      0.96      0.88      5623\n",
            "        LANG       0.83      0.94      0.88      4221\n",
            "       SKILL       0.78      0.90      0.84      2590\n",
            "  SOFT_SKILL       0.72      0.91      0.80      3332\n",
            "        TOOL       0.77      0.83      0.80      6135\n",
            "\n",
            "   micro avg       0.78      0.90      0.84     22005\n",
            "   macro avg       0.74      0.89      0.80     22005\n",
            "weighted avg       0.78      0.90      0.84     22005\n",
            "\n",
            "\n",
            "📋 Classification Report:\n",
            "              precision    recall  f1-score   support\n",
            "\n",
            "        CERT       0.50      0.80      0.61       104\n",
            "       FIELD       0.82      0.96      0.88      5623\n",
            "        LANG       0.82      0.95      0.88      4221\n",
            "       SKILL       0.77      0.91      0.84      2590\n",
            "  SOFT_SKILL       0.72      0.91      0.80      3332\n",
            "        TOOL       0.76      0.88      0.81      6135\n",
            "\n",
            "   micro avg       0.78      0.92      0.84     22005\n",
            "   macro avg       0.73      0.90      0.81     22005\n",
            "weighted avg       0.78      0.92      0.85     22005\n",
            "\n"
          ]
        },
        {
          "output_type": "execute_result",
          "data": {
            "text/plain": [
              "TrainOutput(global_step=53505, training_loss=0.03758225473298969, metrics={'train_runtime': 7530.0127, 'train_samples_per_second': 113.686, 'train_steps_per_second': 7.106, 'total_flos': 5.592666014348928e+16, 'train_loss': 0.03758225473298969, 'epoch': 5.0})"
            ]
          },
          "metadata": {},
          "execution_count": 26
        }
      ]
    },
    {
      "cell_type": "code",
      "source": [
        "model_path = \"bio_ner_model_final\"\n",
        "model.save_pretrained(model_path)\n",
        "tokenizer.save_pretrained(model_path)\n",
        "\n",
        "with open(f\"{model_path}/label_mappings.json\", \"w\") as f:\n",
        "    json.dump({\"id2label\": id2label, \"label2id\": label2id}, f, indent=4)\n",
        "\n",
        "print(\"Model and tokenizer saved to `bio_ner_model_final/`\")"
      ],
      "metadata": {
        "colab": {
          "base_uri": "https://localhost:8080/"
        },
        "id": "xfCtZFwvcXTw",
        "outputId": "b334b094-f630-4dee-aa86-28a208af75d6"
      },
      "execution_count": null,
      "outputs": [
        {
          "output_type": "stream",
          "name": "stdout",
          "text": [
            "Model and tokenizer saved to `bio_ner_model_final/`\n"
          ]
        }
      ]
    },
    {
      "cell_type": "markdown",
      "source": [
        "#Inference"
      ],
      "metadata": {
        "id": "QI4sjY9JOwEv"
      }
    },
    {
      "cell_type": "code",
      "source": [
        "#testing on new skillphrases which are not in our predefined lists.\n",
        "test_sentences = [\n",
        "    \"We used LangChain with a RAG pipeline connected to a vector database like Qdrant, fine-tuned a LLaMA model using LoRA and PEFT, deployed it with FastAPI, and tracked experiments via Weights & Biases, while ensuring fairness through SHAP values and RLHF.\"\n",
        "]"
      ],
      "metadata": {
        "id": "iuuef-_Pxm9-"
      },
      "execution_count": 2,
      "outputs": []
    },
    {
      "cell_type": "code",
      "source": [
        "MODEL_PATH = \"bio_ner_model_final/bio_ner_model_final\"\n",
        "\n",
        "tokenizer = BertTokenizerFast.from_pretrained(MODEL_PATH)\n",
        "model = BertForTokenClassification.from_pretrained(MODEL_PATH)\n",
        "model.eval()\n",
        "\n",
        "with open(f\"{MODEL_PATH}/label_mappings.json\", \"r\") as f:\n",
        "    mappings = json.load(f)\n",
        "id2label = {int(k): v for k, v in mappings[\"id2label\"].items()}\n",
        "\n",
        "for i, sentence in enumerate(test_sentences):\n",
        "    inputs = tokenizer(sentence, return_tensors=\"pt\", truncation=True, max_length=256, is_split_into_words=False)\n",
        "    with torch.no_grad():\n",
        "        outputs = model(**inputs)\n",
        "        predictions = torch.argmax(outputs.logits, dim=2)[0]\n",
        "\n",
        "    tokens = tokenizer.convert_ids_to_tokens(inputs[\"input_ids\"][0])\n",
        "    labels = [id2label[pred.item()] for pred in predictions]\n",
        "\n",
        "    print(f\"\\nSentence : {sentence}\")\n",
        "    print(\"Tokens :\")\n",
        "    print(\" \".join(tokens))\n",
        "    print(\"Labels :\")\n",
        "    print(\" \".join(labels))"
      ],
      "metadata": {
        "colab": {
          "base_uri": "https://localhost:8080/"
        },
        "id": "e-AH3YL0xpn-",
        "outputId": "160e0efc-9f23-4830-c056-6922737325b0"
      },
      "execution_count": 9,
      "outputs": [
        {
          "output_type": "stream",
          "name": "stdout",
          "text": [
            "\n",
            "Sentence : We used LangChain with a RAG pipeline connected to a vector database like Qdrant, fine-tuned a LLaMA model using LoRA and PEFT, deployed it with FastAPI, and tracked experiments via Weights & Biases, while ensuring fairness through SHAP values and RLHF.\n",
            "Tokens :\n",
            "[CLS] We used Lang ##C ##hai ##n with a RA ##G pipeline connected to a vector database like Q ##dra ##nt , fine - tuned a LL ##a ##MA model using Lo ##RA and P ##EF ##T , deployed it with Fast ##AP ##I , and tracked experiments via Weight ##s & B ##ias ##es , while ensuring fair ##ness through SH ##AP values and R ##L ##HF . [SEP]\n",
            "Labels :\n",
            "O O O B-TOOL B-TOOL B-TOOL B-TOOL O O O O O O O O O O O B-TOOL B-TOOL B-TOOL O O O O O O O O O O O O O O O O O O O O B-TOOL B-TOOL B-TOOL O O O O O O O O O O O O O O O O O B-SKILL B-SKILL O O O O O O O\n"
          ]
        }
      ]
    }
  ],
  "metadata": {
    "colab": {
      "provenance": [],
      "gpuType": "T4"
    },
    "kernelspec": {
      "display_name": "Python 3",
      "name": "python3"
    },
    "language_info": {
      "name": "python"
    },
    "accelerator": "GPU",
    "widgets": {
      "application/vnd.jupyter.widget-state+json": {
        "84be7e6ab08a489dbc2fc9889d52ff5b": {
          "model_module": "@jupyter-widgets/controls",
          "model_name": "HBoxModel",
          "model_module_version": "1.5.0",
          "state": {
            "_dom_classes": [],
            "_model_module": "@jupyter-widgets/controls",
            "_model_module_version": "1.5.0",
            "_model_name": "HBoxModel",
            "_view_count": null,
            "_view_module": "@jupyter-widgets/controls",
            "_view_module_version": "1.5.0",
            "_view_name": "HBoxView",
            "box_style": "",
            "children": [
              "IPY_MODEL_b08750d3205148838ff4e97649e231ce",
              "IPY_MODEL_46e99d00d1d3459588c7bd5c26eafb70",
              "IPY_MODEL_085e4426888841e89048711020ef48f6"
            ],
            "layout": "IPY_MODEL_74b6f5ec75264378ba9efa26c58c0eee"
          }
        },
        "b08750d3205148838ff4e97649e231ce": {
          "model_module": "@jupyter-widgets/controls",
          "model_name": "HTMLModel",
          "model_module_version": "1.5.0",
          "state": {
            "_dom_classes": [],
            "_model_module": "@jupyter-widgets/controls",
            "_model_module_version": "1.5.0",
            "_model_name": "HTMLModel",
            "_view_count": null,
            "_view_module": "@jupyter-widgets/controls",
            "_view_module_version": "1.5.0",
            "_view_name": "HTMLView",
            "description": "",
            "description_tooltip": null,
            "layout": "IPY_MODEL_8f102d4e46d74f949bc1d0e9da6249c6",
            "placeholder": "​",
            "style": "IPY_MODEL_ba29fa0e792342aea5cdaf796f9dfc7e",
            "value": "Map: 100%"
          }
        },
        "46e99d00d1d3459588c7bd5c26eafb70": {
          "model_module": "@jupyter-widgets/controls",
          "model_name": "FloatProgressModel",
          "model_module_version": "1.5.0",
          "state": {
            "_dom_classes": [],
            "_model_module": "@jupyter-widgets/controls",
            "_model_module_version": "1.5.0",
            "_model_name": "FloatProgressModel",
            "_view_count": null,
            "_view_module": "@jupyter-widgets/controls",
            "_view_module_version": "1.5.0",
            "_view_name": "ProgressView",
            "bar_style": "success",
            "description": "",
            "description_tooltip": null,
            "layout": "IPY_MODEL_7d6fb24694b3492ba369805b6eedf113",
            "max": 171211,
            "min": 0,
            "orientation": "horizontal",
            "style": "IPY_MODEL_1dc20d4a31aa497e9b2e93c7abdad899",
            "value": 171211
          }
        },
        "085e4426888841e89048711020ef48f6": {
          "model_module": "@jupyter-widgets/controls",
          "model_name": "HTMLModel",
          "model_module_version": "1.5.0",
          "state": {
            "_dom_classes": [],
            "_model_module": "@jupyter-widgets/controls",
            "_model_module_version": "1.5.0",
            "_model_name": "HTMLModel",
            "_view_count": null,
            "_view_module": "@jupyter-widgets/controls",
            "_view_module_version": "1.5.0",
            "_view_name": "HTMLView",
            "description": "",
            "description_tooltip": null,
            "layout": "IPY_MODEL_b590c97dd44940b9b05bdcd461581700",
            "placeholder": "​",
            "style": "IPY_MODEL_64b48b448f644352b79cc2f8aacfd6ec",
            "value": " 171211/171211 [01:33&lt;00:00, 1880.29 examples/s]"
          }
        },
        "74b6f5ec75264378ba9efa26c58c0eee": {
          "model_module": "@jupyter-widgets/base",
          "model_name": "LayoutModel",
          "model_module_version": "1.2.0",
          "state": {
            "_model_module": "@jupyter-widgets/base",
            "_model_module_version": "1.2.0",
            "_model_name": "LayoutModel",
            "_view_count": null,
            "_view_module": "@jupyter-widgets/base",
            "_view_module_version": "1.2.0",
            "_view_name": "LayoutView",
            "align_content": null,
            "align_items": null,
            "align_self": null,
            "border": null,
            "bottom": null,
            "display": null,
            "flex": null,
            "flex_flow": null,
            "grid_area": null,
            "grid_auto_columns": null,
            "grid_auto_flow": null,
            "grid_auto_rows": null,
            "grid_column": null,
            "grid_gap": null,
            "grid_row": null,
            "grid_template_areas": null,
            "grid_template_columns": null,
            "grid_template_rows": null,
            "height": null,
            "justify_content": null,
            "justify_items": null,
            "left": null,
            "margin": null,
            "max_height": null,
            "max_width": null,
            "min_height": null,
            "min_width": null,
            "object_fit": null,
            "object_position": null,
            "order": null,
            "overflow": null,
            "overflow_x": null,
            "overflow_y": null,
            "padding": null,
            "right": null,
            "top": null,
            "visibility": null,
            "width": null
          }
        },
        "8f102d4e46d74f949bc1d0e9da6249c6": {
          "model_module": "@jupyter-widgets/base",
          "model_name": "LayoutModel",
          "model_module_version": "1.2.0",
          "state": {
            "_model_module": "@jupyter-widgets/base",
            "_model_module_version": "1.2.0",
            "_model_name": "LayoutModel",
            "_view_count": null,
            "_view_module": "@jupyter-widgets/base",
            "_view_module_version": "1.2.0",
            "_view_name": "LayoutView",
            "align_content": null,
            "align_items": null,
            "align_self": null,
            "border": null,
            "bottom": null,
            "display": null,
            "flex": null,
            "flex_flow": null,
            "grid_area": null,
            "grid_auto_columns": null,
            "grid_auto_flow": null,
            "grid_auto_rows": null,
            "grid_column": null,
            "grid_gap": null,
            "grid_row": null,
            "grid_template_areas": null,
            "grid_template_columns": null,
            "grid_template_rows": null,
            "height": null,
            "justify_content": null,
            "justify_items": null,
            "left": null,
            "margin": null,
            "max_height": null,
            "max_width": null,
            "min_height": null,
            "min_width": null,
            "object_fit": null,
            "object_position": null,
            "order": null,
            "overflow": null,
            "overflow_x": null,
            "overflow_y": null,
            "padding": null,
            "right": null,
            "top": null,
            "visibility": null,
            "width": null
          }
        },
        "ba29fa0e792342aea5cdaf796f9dfc7e": {
          "model_module": "@jupyter-widgets/controls",
          "model_name": "DescriptionStyleModel",
          "model_module_version": "1.5.0",
          "state": {
            "_model_module": "@jupyter-widgets/controls",
            "_model_module_version": "1.5.0",
            "_model_name": "DescriptionStyleModel",
            "_view_count": null,
            "_view_module": "@jupyter-widgets/base",
            "_view_module_version": "1.2.0",
            "_view_name": "StyleView",
            "description_width": ""
          }
        },
        "7d6fb24694b3492ba369805b6eedf113": {
          "model_module": "@jupyter-widgets/base",
          "model_name": "LayoutModel",
          "model_module_version": "1.2.0",
          "state": {
            "_model_module": "@jupyter-widgets/base",
            "_model_module_version": "1.2.0",
            "_model_name": "LayoutModel",
            "_view_count": null,
            "_view_module": "@jupyter-widgets/base",
            "_view_module_version": "1.2.0",
            "_view_name": "LayoutView",
            "align_content": null,
            "align_items": null,
            "align_self": null,
            "border": null,
            "bottom": null,
            "display": null,
            "flex": null,
            "flex_flow": null,
            "grid_area": null,
            "grid_auto_columns": null,
            "grid_auto_flow": null,
            "grid_auto_rows": null,
            "grid_column": null,
            "grid_gap": null,
            "grid_row": null,
            "grid_template_areas": null,
            "grid_template_columns": null,
            "grid_template_rows": null,
            "height": null,
            "justify_content": null,
            "justify_items": null,
            "left": null,
            "margin": null,
            "max_height": null,
            "max_width": null,
            "min_height": null,
            "min_width": null,
            "object_fit": null,
            "object_position": null,
            "order": null,
            "overflow": null,
            "overflow_x": null,
            "overflow_y": null,
            "padding": null,
            "right": null,
            "top": null,
            "visibility": null,
            "width": null
          }
        },
        "1dc20d4a31aa497e9b2e93c7abdad899": {
          "model_module": "@jupyter-widgets/controls",
          "model_name": "ProgressStyleModel",
          "model_module_version": "1.5.0",
          "state": {
            "_model_module": "@jupyter-widgets/controls",
            "_model_module_version": "1.5.0",
            "_model_name": "ProgressStyleModel",
            "_view_count": null,
            "_view_module": "@jupyter-widgets/base",
            "_view_module_version": "1.2.0",
            "_view_name": "StyleView",
            "bar_color": null,
            "description_width": ""
          }
        },
        "b590c97dd44940b9b05bdcd461581700": {
          "model_module": "@jupyter-widgets/base",
          "model_name": "LayoutModel",
          "model_module_version": "1.2.0",
          "state": {
            "_model_module": "@jupyter-widgets/base",
            "_model_module_version": "1.2.0",
            "_model_name": "LayoutModel",
            "_view_count": null,
            "_view_module": "@jupyter-widgets/base",
            "_view_module_version": "1.2.0",
            "_view_name": "LayoutView",
            "align_content": null,
            "align_items": null,
            "align_self": null,
            "border": null,
            "bottom": null,
            "display": null,
            "flex": null,
            "flex_flow": null,
            "grid_area": null,
            "grid_auto_columns": null,
            "grid_auto_flow": null,
            "grid_auto_rows": null,
            "grid_column": null,
            "grid_gap": null,
            "grid_row": null,
            "grid_template_areas": null,
            "grid_template_columns": null,
            "grid_template_rows": null,
            "height": null,
            "justify_content": null,
            "justify_items": null,
            "left": null,
            "margin": null,
            "max_height": null,
            "max_width": null,
            "min_height": null,
            "min_width": null,
            "object_fit": null,
            "object_position": null,
            "order": null,
            "overflow": null,
            "overflow_x": null,
            "overflow_y": null,
            "padding": null,
            "right": null,
            "top": null,
            "visibility": null,
            "width": null
          }
        },
        "64b48b448f644352b79cc2f8aacfd6ec": {
          "model_module": "@jupyter-widgets/controls",
          "model_name": "DescriptionStyleModel",
          "model_module_version": "1.5.0",
          "state": {
            "_model_module": "@jupyter-widgets/controls",
            "_model_module_version": "1.5.0",
            "_model_name": "DescriptionStyleModel",
            "_view_count": null,
            "_view_module": "@jupyter-widgets/base",
            "_view_module_version": "1.2.0",
            "_view_name": "StyleView",
            "description_width": ""
          }
        },
        "342a30eb190441228c2364f7054d0a93": {
          "model_module": "@jupyter-widgets/controls",
          "model_name": "HBoxModel",
          "model_module_version": "1.5.0",
          "state": {
            "_dom_classes": [],
            "_model_module": "@jupyter-widgets/controls",
            "_model_module_version": "1.5.0",
            "_model_name": "HBoxModel",
            "_view_count": null,
            "_view_module": "@jupyter-widgets/controls",
            "_view_module_version": "1.5.0",
            "_view_name": "HBoxView",
            "box_style": "",
            "children": [
              "IPY_MODEL_20d203a671da4a16a22657b8e6ca5a44",
              "IPY_MODEL_156a3ae69f994e08ba8303d1baba6ba5",
              "IPY_MODEL_d0458dba3f9b4c6585199f099857d41c"
            ],
            "layout": "IPY_MODEL_d9ebe6f84698459fb4969790e5f492c9"
          }
        },
        "20d203a671da4a16a22657b8e6ca5a44": {
          "model_module": "@jupyter-widgets/controls",
          "model_name": "HTMLModel",
          "model_module_version": "1.5.0",
          "state": {
            "_dom_classes": [],
            "_model_module": "@jupyter-widgets/controls",
            "_model_module_version": "1.5.0",
            "_model_name": "HTMLModel",
            "_view_count": null,
            "_view_module": "@jupyter-widgets/controls",
            "_view_module_version": "1.5.0",
            "_view_name": "HTMLView",
            "description": "",
            "description_tooltip": null,
            "layout": "IPY_MODEL_dcfdf7df33d04502838482a08369c7f9",
            "placeholder": "​",
            "style": "IPY_MODEL_456b2256434f45f4b5f1bcd6ad177e38",
            "value": "Map: 100%"
          }
        },
        "156a3ae69f994e08ba8303d1baba6ba5": {
          "model_module": "@jupyter-widgets/controls",
          "model_name": "FloatProgressModel",
          "model_module_version": "1.5.0",
          "state": {
            "_dom_classes": [],
            "_model_module": "@jupyter-widgets/controls",
            "_model_module_version": "1.5.0",
            "_model_name": "FloatProgressModel",
            "_view_count": null,
            "_view_module": "@jupyter-widgets/controls",
            "_view_module_version": "1.5.0",
            "_view_name": "ProgressView",
            "bar_style": "success",
            "description": "",
            "description_tooltip": null,
            "layout": "IPY_MODEL_01c1bfa91c024d798e597256e01e6ee8",
            "max": 19024,
            "min": 0,
            "orientation": "horizontal",
            "style": "IPY_MODEL_41435ab6135041768c913cd3a4cc9dfb",
            "value": 19024
          }
        },
        "d0458dba3f9b4c6585199f099857d41c": {
          "model_module": "@jupyter-widgets/controls",
          "model_name": "HTMLModel",
          "model_module_version": "1.5.0",
          "state": {
            "_dom_classes": [],
            "_model_module": "@jupyter-widgets/controls",
            "_model_module_version": "1.5.0",
            "_model_name": "HTMLModel",
            "_view_count": null,
            "_view_module": "@jupyter-widgets/controls",
            "_view_module_version": "1.5.0",
            "_view_name": "HTMLView",
            "description": "",
            "description_tooltip": null,
            "layout": "IPY_MODEL_1879466b37da4b03989bd1fcc164da3f",
            "placeholder": "​",
            "style": "IPY_MODEL_f37460a320d5404eaea796ae3b2d8fc8",
            "value": " 19024/19024 [00:10&lt;00:00, 2113.19 examples/s]"
          }
        },
        "d9ebe6f84698459fb4969790e5f492c9": {
          "model_module": "@jupyter-widgets/base",
          "model_name": "LayoutModel",
          "model_module_version": "1.2.0",
          "state": {
            "_model_module": "@jupyter-widgets/base",
            "_model_module_version": "1.2.0",
            "_model_name": "LayoutModel",
            "_view_count": null,
            "_view_module": "@jupyter-widgets/base",
            "_view_module_version": "1.2.0",
            "_view_name": "LayoutView",
            "align_content": null,
            "align_items": null,
            "align_self": null,
            "border": null,
            "bottom": null,
            "display": null,
            "flex": null,
            "flex_flow": null,
            "grid_area": null,
            "grid_auto_columns": null,
            "grid_auto_flow": null,
            "grid_auto_rows": null,
            "grid_column": null,
            "grid_gap": null,
            "grid_row": null,
            "grid_template_areas": null,
            "grid_template_columns": null,
            "grid_template_rows": null,
            "height": null,
            "justify_content": null,
            "justify_items": null,
            "left": null,
            "margin": null,
            "max_height": null,
            "max_width": null,
            "min_height": null,
            "min_width": null,
            "object_fit": null,
            "object_position": null,
            "order": null,
            "overflow": null,
            "overflow_x": null,
            "overflow_y": null,
            "padding": null,
            "right": null,
            "top": null,
            "visibility": null,
            "width": null
          }
        },
        "dcfdf7df33d04502838482a08369c7f9": {
          "model_module": "@jupyter-widgets/base",
          "model_name": "LayoutModel",
          "model_module_version": "1.2.0",
          "state": {
            "_model_module": "@jupyter-widgets/base",
            "_model_module_version": "1.2.0",
            "_model_name": "LayoutModel",
            "_view_count": null,
            "_view_module": "@jupyter-widgets/base",
            "_view_module_version": "1.2.0",
            "_view_name": "LayoutView",
            "align_content": null,
            "align_items": null,
            "align_self": null,
            "border": null,
            "bottom": null,
            "display": null,
            "flex": null,
            "flex_flow": null,
            "grid_area": null,
            "grid_auto_columns": null,
            "grid_auto_flow": null,
            "grid_auto_rows": null,
            "grid_column": null,
            "grid_gap": null,
            "grid_row": null,
            "grid_template_areas": null,
            "grid_template_columns": null,
            "grid_template_rows": null,
            "height": null,
            "justify_content": null,
            "justify_items": null,
            "left": null,
            "margin": null,
            "max_height": null,
            "max_width": null,
            "min_height": null,
            "min_width": null,
            "object_fit": null,
            "object_position": null,
            "order": null,
            "overflow": null,
            "overflow_x": null,
            "overflow_y": null,
            "padding": null,
            "right": null,
            "top": null,
            "visibility": null,
            "width": null
          }
        },
        "456b2256434f45f4b5f1bcd6ad177e38": {
          "model_module": "@jupyter-widgets/controls",
          "model_name": "DescriptionStyleModel",
          "model_module_version": "1.5.0",
          "state": {
            "_model_module": "@jupyter-widgets/controls",
            "_model_module_version": "1.5.0",
            "_model_name": "DescriptionStyleModel",
            "_view_count": null,
            "_view_module": "@jupyter-widgets/base",
            "_view_module_version": "1.2.0",
            "_view_name": "StyleView",
            "description_width": ""
          }
        },
        "01c1bfa91c024d798e597256e01e6ee8": {
          "model_module": "@jupyter-widgets/base",
          "model_name": "LayoutModel",
          "model_module_version": "1.2.0",
          "state": {
            "_model_module": "@jupyter-widgets/base",
            "_model_module_version": "1.2.0",
            "_model_name": "LayoutModel",
            "_view_count": null,
            "_view_module": "@jupyter-widgets/base",
            "_view_module_version": "1.2.0",
            "_view_name": "LayoutView",
            "align_content": null,
            "align_items": null,
            "align_self": null,
            "border": null,
            "bottom": null,
            "display": null,
            "flex": null,
            "flex_flow": null,
            "grid_area": null,
            "grid_auto_columns": null,
            "grid_auto_flow": null,
            "grid_auto_rows": null,
            "grid_column": null,
            "grid_gap": null,
            "grid_row": null,
            "grid_template_areas": null,
            "grid_template_columns": null,
            "grid_template_rows": null,
            "height": null,
            "justify_content": null,
            "justify_items": null,
            "left": null,
            "margin": null,
            "max_height": null,
            "max_width": null,
            "min_height": null,
            "min_width": null,
            "object_fit": null,
            "object_position": null,
            "order": null,
            "overflow": null,
            "overflow_x": null,
            "overflow_y": null,
            "padding": null,
            "right": null,
            "top": null,
            "visibility": null,
            "width": null
          }
        },
        "41435ab6135041768c913cd3a4cc9dfb": {
          "model_module": "@jupyter-widgets/controls",
          "model_name": "ProgressStyleModel",
          "model_module_version": "1.5.0",
          "state": {
            "_model_module": "@jupyter-widgets/controls",
            "_model_module_version": "1.5.0",
            "_model_name": "ProgressStyleModel",
            "_view_count": null,
            "_view_module": "@jupyter-widgets/base",
            "_view_module_version": "1.2.0",
            "_view_name": "StyleView",
            "bar_color": null,
            "description_width": ""
          }
        },
        "1879466b37da4b03989bd1fcc164da3f": {
          "model_module": "@jupyter-widgets/base",
          "model_name": "LayoutModel",
          "model_module_version": "1.2.0",
          "state": {
            "_model_module": "@jupyter-widgets/base",
            "_model_module_version": "1.2.0",
            "_model_name": "LayoutModel",
            "_view_count": null,
            "_view_module": "@jupyter-widgets/base",
            "_view_module_version": "1.2.0",
            "_view_name": "LayoutView",
            "align_content": null,
            "align_items": null,
            "align_self": null,
            "border": null,
            "bottom": null,
            "display": null,
            "flex": null,
            "flex_flow": null,
            "grid_area": null,
            "grid_auto_columns": null,
            "grid_auto_flow": null,
            "grid_auto_rows": null,
            "grid_column": null,
            "grid_gap": null,
            "grid_row": null,
            "grid_template_areas": null,
            "grid_template_columns": null,
            "grid_template_rows": null,
            "height": null,
            "justify_content": null,
            "justify_items": null,
            "left": null,
            "margin": null,
            "max_height": null,
            "max_width": null,
            "min_height": null,
            "min_width": null,
            "object_fit": null,
            "object_position": null,
            "order": null,
            "overflow": null,
            "overflow_x": null,
            "overflow_y": null,
            "padding": null,
            "right": null,
            "top": null,
            "visibility": null,
            "width": null
          }
        },
        "f37460a320d5404eaea796ae3b2d8fc8": {
          "model_module": "@jupyter-widgets/controls",
          "model_name": "DescriptionStyleModel",
          "model_module_version": "1.5.0",
          "state": {
            "_model_module": "@jupyter-widgets/controls",
            "_model_module_version": "1.5.0",
            "_model_name": "DescriptionStyleModel",
            "_view_count": null,
            "_view_module": "@jupyter-widgets/base",
            "_view_module_version": "1.2.0",
            "_view_name": "StyleView",
            "description_width": ""
          }
        }
      }
    }
  },
  "nbformat": 4,
  "nbformat_minor": 0
}